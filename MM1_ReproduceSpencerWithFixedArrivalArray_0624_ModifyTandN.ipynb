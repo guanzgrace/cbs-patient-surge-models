{
 "cells": [
  {
   "cell_type": "markdown",
   "metadata": {},
   "source": [
    "- Threshold policy: As we change threshold, look at p\n",
    "- w-Lookahead policy: As we change w, look at p\n",
    "\n",
    "We make some key changes to see if we can match Spencer et al. results.\n",
    "\n",
    "- we generate all arrivals ahead of time to compare their queue lengths over time\n",
    "- we set the fast service rate to 0 (jobs get deleted)\n",
    "- instead of looking at the proportion of time that we are in surge, we look at the proportion of jobs that get kicked out \n",
    "- Spencer et al. uses p to denote 1-slow service rate so we use alpha instead of p for the proportion of jobs that get kicked out"
   ]
  },
  {
   "cell_type": "code",
   "execution_count": 2,
   "metadata": {},
   "outputs": [],
   "source": [
    "%matplotlib inline\n",
    "from pylab import *\n",
    "import sys\n",
    "from collections import namedtuple\n",
    "import random\n",
    "import time\n",
    "import numpy as np"
   ]
  },
  {
   "cell_type": "code",
   "execution_count": 3,
   "metadata": {},
   "outputs": [],
   "source": [
    "def log_normal(mu=0, sigma=1):\n",
    "    return e**(mu+sigma*np.random.normal())\n",
    "\n",
    "def exp_samples(lambd=1,n=1):\n",
    "    \"\"\"\n",
    "    generates a numpy array of n samples distributed according to\n",
    "    an exponential distribution with parameter λ\n",
    "    \"\"\"\n",
    "    random.seed(time.time())\n",
    "    return (-1/lambd)*log(rand(n))\n",
    "\n",
    "def exp(lambd=1):\n",
    "    \"\"\"\n",
    "    generates a sample distributed according to\n",
    "    an exponential distribution with parameter λ\n",
    "    \"\"\"\n",
    "    if lambd < 0:\n",
    "        return inf()\n",
    "    random.seed(time.time())\n",
    "    return (-1/lambd)*log(rand())\n",
    "\n",
    "def inf():\n",
    "    return 999999\n",
    "\n",
    "\n",
    "def printarray(a): \n",
    "    print(np.around(a, 3))\n",
    "    \n",
    "\n",
    "# Define customer for the threshold policy\n",
    "Customer = namedtuple(\"Customer\", \"arrival_time\")\n",
    "def customer(arrival_time=-1):\n",
    "    return Customer(arrival_time=arrival_time)\n",
    "\n",
    "# Define customer for the w-lookahead policy\n",
    "# mu1 is the slow service rate and mu2 is the fast service rate\n",
    "WCustomer = namedtuple(\"WCustomer\", \"arrival_time slow_service_time fast_service_time enter_service_time service_time arrival_index fast\")\n",
    "def wcustomer(arrival_time=-1, mu1=-1, mu2=-1, arrival_index=0):\n",
    "    slow = 2\n",
    "    fast = 0 #slow * mu1/mu2\n",
    "    return WCustomer(arrival_time=arrival_time, slow_service_time=slow,\n",
    "                     fast_service_time=fast, enter_service_time=-1,\n",
    "                     service_time=-1, arrival_index=arrival_index, fast=False)\n",
    "\n",
    "def wcustomer_slow_fast(arrival_time=-1, slow=2, fast=0, arrival_index=0):\n",
    "    return WCustomer(arrival_time=arrival_time, slow_service_time=slow,\n",
    "                     fast_service_time=fast, enter_service_time=-1,\n",
    "                     service_time=-1, arrival_index=arrival_index, fast=False)\n",
    "\n",
    "def wcustomer_with_parameters(w, current_time, fast):\n",
    "    if fast:\n",
    "        return WCustomer(arrival_time=w.arrival_time, slow_service_time=w.slow_service_time,\n",
    "                         fast_service_time=w.fast_service_time, enter_service_time=current_time,\n",
    "                         service_time=current_time+w.fast_service_time,\n",
    "                         arrival_index=w.arrival_index, fast=True)\n",
    "    return WCustomer(arrival_time=w.arrival_time, slow_service_time=w.slow_service_time,\n",
    "                     fast_service_time=w.fast_service_time, enter_service_time=current_time,\n",
    "                     service_time=current_time+w.slow_service_time,\n",
    "                     arrival_index=w.arrival_index, fast=False)\n",
    "\n",
    "def wcustomer_deleted(w):\n",
    "    return WCustomer(arrival_time=w.arrival_time, slow_service_time=0,\n",
    "                     fast_service_time=w.fast_service_time, enter_service_time=w.enter_service_time,\n",
    "                     service_time=w.service_time,\n",
    "                     arrival_index=w.arrival_index, fast=True)"
   ]
  },
  {
   "cell_type": "code",
   "execution_count": 4,
   "metadata": {},
   "outputs": [],
   "source": [
    "lambd = 0.999\n",
    "mu1 = 0.95\n",
    "mu2 = 100 # doesn't matter in this case because fast gets kicked out immediately\n",
    "c = 1\n",
    "Tmax = 10\n",
    "\n",
    "surge_threshold = 80\n",
    "w = 10 # lookahead is online in this case"
   ]
  },
  {
   "cell_type": "code",
   "execution_count": 5,
   "metadata": {},
   "outputs": [],
   "source": [
    "def gen_arrivals(lambd, mu1, mu2, Tmax): \n",
    "    # generate arrivals independent of whether or not we speed up the customers\n",
    "    T_advance = [0]  # list of events that get generated in advance\n",
    "    arrivals = []\n",
    "    while T_advance[-1] < Tmax:\n",
    "        t_temp = T_advance[-1]\n",
    "        next_arrival = t_temp + 1\n",
    "        T_advance.append(next_arrival)\n",
    "        arrivals.append(wcustomer_slow_fast(next_arrival, mu1, mu2, len(T_advance) - 2))\n",
    "    return arrivals"
   ]
  },
  {
   "cell_type": "code",
   "execution_count": 6,
   "metadata": {},
   "outputs": [],
   "source": [
    "def gen_deterministic_arrivals(lambd, mu1, mu2, Tmax): \n",
    "    # generate arrivals independent of whether or not we speed up the customers\n",
    "    T_advance = [0]  # list of events that get generated in advance\n",
    "    arrivals = []\n",
    "    arrivals.append(wcustomer_slow_fast(0, 2, 0, 0))\n",
    "    arrivals.append(wcustomer_slow_fast(1, 1, 0, 1))\n",
    "    arrivals.append(wcustomer_slow_fast(4, 3, 0, 2))\n",
    "    arrivals.append(wcustomer_slow_fast(5, 1, 0, 3))\n",
    "    arrivals.append(wcustomer_slow_fast(6, 10, 0, 4))\n",
    "    arrivals.append(wcustomer_slow_fast(9, 10, 0, 5))\n",
    "    return arrivals"
   ]
  },
  {
   "cell_type": "code",
   "execution_count": 7,
   "metadata": {},
   "outputs": [],
   "source": [
    "arrivals = gen_deterministic_arrivals(lambd, mu1, mu2, Tmax)"
   ]
  },
  {
   "cell_type": "code",
   "execution_count": 18,
   "metadata": {},
   "outputs": [],
   "source": [
    "def gen_deletion_list(T, N):\n",
    "    deletions = list()\n",
    "    current_min = N[-1]\n",
    "    for i in range(len(N) - 2, 0, -1):\n",
    "        if N[i] < current_min:\n",
    "            current_min = N[i]\n",
    "            deletions.append(i + 1)\n",
    "    return deletions"
   ]
  },
  {
   "cell_type": "code",
   "execution_count": 39,
   "metadata": {},
   "outputs": [],
   "source": [
    "def execute_deletion_list(N, deletions):\n",
    "    print(deletions)\n",
    "    for i in deletions:\n",
    "        print(i)\n",
    "        for j in range(i, len(N)):\n",
    "            N[j] -= 1\n",
    "            print(N)\n",
    "    return N"
   ]
  },
  {
   "cell_type": "code",
   "execution_count": 28,
   "metadata": {},
   "outputs": [],
   "source": [
    "T, N, _ = MM1Normal(arrivals, c, Tmax)"
   ]
  },
  {
   "cell_type": "code",
   "execution_count": 32,
   "metadata": {},
   "outputs": [],
   "source": [
    "deletions = gen_deletion_list(T, N)"
   ]
  },
  {
   "cell_type": "code",
   "execution_count": 40,
   "metadata": {},
   "outputs": [
    {
     "name": "stdout",
     "output_type": "stream",
     "text": [
      "[10, 5]\n",
      "10\n",
      "[0, 1, 2, 1, 0, 1, 2, 3, 2, 1, 1]\n",
      "5\n",
      "[0, 1, 2, 1, 0, 0, 2, 3, 2, 1, 1]\n",
      "[0, 1, 2, 1, 0, 0, 1, 3, 2, 1, 1]\n",
      "[0, 1, 2, 1, 0, 0, 1, 2, 2, 1, 1]\n",
      "[0, 1, 2, 1, 0, 0, 1, 2, 1, 1, 1]\n",
      "[0, 1, 2, 1, 0, 0, 1, 2, 1, 0, 1]\n",
      "[0, 1, 2, 1, 0, 0, 1, 2, 1, 0, 0]\n"
     ]
    }
   ],
   "source": [
    "a = execute_deletion_list(N, deletions)"
   ]
  },
  {
   "cell_type": "code",
   "execution_count": 34,
   "metadata": {},
   "outputs": [
    {
     "data": {
      "text/plain": [
       "[0, 1, 2, 1, 0, 1, 2, 3, 2, 1, 2]"
      ]
     },
     "execution_count": 34,
     "metadata": {},
     "output_type": "execute_result"
    }
   ],
   "source": [
    "a"
   ]
  },
  {
   "cell_type": "code",
   "execution_count": 9,
   "metadata": {},
   "outputs": [],
   "source": [
    "# Implement no policy (always use slow service time) on an array of arrivals.\n",
    "# Returns T, N, waiting times. Proportion of surge is always 0.\n",
    "def MM1Normal(arrivals, c, Tmax):\n",
    "    T             = [0]  # list of times that events occur in real time\n",
    "    N             = [0]  # initial state of the system\n",
    "    \n",
    "    # customers currently being served by a server\n",
    "    servers = []\n",
    "    \n",
    "    # customers that are waiting to be served by a server\n",
    "    queue = []\n",
    "    \n",
    "    # times spent by users inside the system\n",
    "    waiting_times = []\n",
    "    \n",
    "    # arrival index represents when we either add to queue or to server if it's free\n",
    "    arrival_index = 0\n",
    "    arrivals_len = len(arrivals) - 1\n",
    "    \n",
    "    # first event must be an arrival\n",
    "    next_arrival = arrivals[arrival_index].arrival_time\n",
    "    next_departure = inf()\n",
    "    \n",
    "    while T[-1] < Tmax:\n",
    "        T.append(min(next_arrival, next_departure))\n",
    "        \n",
    "        ##### ARRIVAL ##### \n",
    "        if T[-1] == next_arrival:\n",
    "            N.append(N[-1] + 1) \n",
    "            arrival = arrivals[arrival_index]\n",
    "            arrival_index += 1\n",
    "            if len(servers) < c:\n",
    "                servers.append(wcustomer_with_parameters(arrival, T[-1], False))\n",
    "            else:\n",
    "                queue.append(arrival)\n",
    "                \n",
    "        ##### DEPARTURE #####     \n",
    "        elif T[-1] == next_departure:\n",
    "            N.append(N[-1] - 1)\n",
    "            popped_customer = servers.pop(0)\n",
    "            T_in = popped_customer.arrival_time\n",
    "            if T_in>0:\n",
    "                waiting_times.append(T[-1] - T_in)\n",
    "            # put the next person from the queue into the server\n",
    "            if len(queue) > 0:\n",
    "                next_to_enter = queue.pop(0)\n",
    "                servers.append(wcustomer_with_parameters(next_to_enter, T[-1], False))\n",
    "        \n",
    "        if arrival_index < len(arrivals):\n",
    "            next_arrival = arrivals[arrival_index].arrival_time\n",
    "        else:\n",
    "            next_arrival = inf()\n",
    "        \n",
    "        if len(servers) > 0:\n",
    "            next_departure = servers[0].service_time\n",
    "        else:\n",
    "            next_departure = inf()\n",
    "        \n",
    "    # discard Tmax\n",
    "    T = T[:-1] \n",
    "    N = N[:-1]\n",
    "    return T, N, waiting_times"
   ]
  },
  {
   "cell_type": "code",
   "execution_count": 7,
   "metadata": {},
   "outputs": [],
   "source": [
    "# Implement the threshold policy on an array of arrivals.\n",
    "# Returns T, N, waiting times, proportion of surge\n",
    "def MM1WithOneThreshold(arrivals, surge_threshold, c, Tmax):\n",
    "    T               = [0]  # list of times that events occur\n",
    "    N               = [0]  # initial state of the system\n",
    "    use_surge_num   = 0\n",
    "    use_surge_denom = 0\n",
    "    \n",
    "    # customers currently being served by a server\n",
    "    servers = []\n",
    "    \n",
    "    # customers that are waiting to be served by a server\n",
    "    queue = []\n",
    "    \n",
    "    # times spent by users inside the system\n",
    "    waiting_times = []\n",
    "    \n",
    "    # arrival index represents when we either add to queue or to server if it's free\n",
    "    arrival_index = 0\n",
    "    arrivals_len = len(arrivals) - 1\n",
    "    \n",
    "    # first event must be an arrival\n",
    "    next_arrival = arrivals[arrival_index].arrival_time\n",
    "    next_departure = inf()\n",
    "    \n",
    "    while T[-1] < Tmax:\n",
    "        T.append(min(next_arrival, next_departure))\n",
    "        \n",
    "        ##### ARRIVAL ##### \n",
    "        if next_arrival < next_departure:\n",
    "            N.append(N[-1] + 1) \n",
    "            arrival = arrivals[arrival_index]\n",
    "            arrival_index += 1\n",
    "            if len(servers) < c:\n",
    "                if N[-1] >= surge_threshold:\n",
    "                    servers.append(wcustomer_with_parameters(arrival, T[-1], True))\n",
    "                    if T[-1] > 1000:\n",
    "                        use_surge_num += 1\n",
    "                else:\n",
    "                    servers.append(wcustomer_with_parameters(arrival, T[-1], False)) \n",
    "                if T[-1] > 1000:\n",
    "                    use_surge_denom += 1\n",
    "            else:\n",
    "                queue.append(arrival)\n",
    "            \n",
    "        ##### DEPARTURE #####     \n",
    "        else:\n",
    "            N.append(N[-1] - 1)\n",
    "            popped_customer = servers.pop(0)\n",
    "            T_in = popped_customer.arrival_time\n",
    "            if T_in>0:\n",
    "                waiting_times.append(T[-1] - T_in)            \n",
    "            if len(queue) > 0:\n",
    "                next_to_enter = queue.pop(0)\n",
    "                if N[-1] >= surge_threshold:\n",
    "                    servers.append(wcustomer_with_parameters(next_to_enter, T[-1], True))\n",
    "                    if T[-1] > 1000:\n",
    "                        use_surge_num += 1\n",
    "                else:\n",
    "                    servers.append(wcustomer_with_parameters(next_to_enter, T[-1], False)) \n",
    "                if T[-1] > 1000:\n",
    "                    use_surge_denom += 1\n",
    "        \n",
    "        if arrival_index < len(arrivals):\n",
    "            next_arrival = arrivals[arrival_index].arrival_time\n",
    "        else:\n",
    "            next_arrival = inf()\n",
    "        \n",
    "        if len(servers) > 0:\n",
    "            next_departure = servers[0].service_time\n",
    "        else:\n",
    "            next_departure = inf()\n",
    "        \n",
    "    # discard Tmax\n",
    "    T = T[:-1] \n",
    "    N = N[:-1]\n",
    "    return T, N, waiting_times, use_surge_num / use_surge_denom"
   ]
  },
  {
   "cell_type": "code",
   "execution_count": 34,
   "metadata": {},
   "outputs": [],
   "source": [
    "# Implement the w-lookahead policy on an array of arrivals.\n",
    "# Returns T, N, waiting times, proportion of surge\n",
    "def MM1WithWLookaheadConstant(arrivals, c, w, Tmax):\n",
    "    T               = [0]  # list of times that events occur in real time\n",
    "    N               = [0]  # initial state of the system\n",
    "    use_surge_num   = 0\n",
    "    use_surge_denom = 0\n",
    "    \n",
    "    # customers currently being served by a server\n",
    "    servers = []\n",
    "    \n",
    "    # customers that are waiting to be served by a server\n",
    "    queue = []\n",
    "    \n",
    "    # times spent by users inside the system\n",
    "    waiting_times = []\n",
    "    \n",
    "    # arrival index represents when we either add to queue or to server if it's free\n",
    "    arrival_index = 0\n",
    "    arrivals_len = len(arrivals) - 1\n",
    "    \n",
    "    \n",
    "    # first event must be an arrival\n",
    "    next_arrival = arrivals[arrival_index].arrival_time\n",
    "    next_departure = inf()\n",
    "    \n",
    "    while T[-1] < Tmax:\n",
    "        T.append(min(next_arrival, next_departure))\n",
    "        \n",
    "        ##### ARRIVAL ##### \n",
    "        if T[-1] == next_arrival:\n",
    "            N.append(N[-1]+1) \n",
    "            arrival = arrivals[arrival_index]\n",
    "            arrival_index += 1\n",
    "            if len(servers) < c:\n",
    "                # w-lookahead: decide whether to use fast or slow service rate\n",
    "                cumulative_service_time = T[-1]\n",
    "                w_lookahead = T[-1] + w\n",
    "                num_arrivals = 1\n",
    "                num_departures = 0\n",
    "                arrival_lookahead_index = arrival_index\n",
    "                service_lookahead_index = arrival.arrival_index\n",
    "                use_slow = False\n",
    "                while arrival_lookahead_index < arrivals_len and service_lookahead_index < arrivals_len:\n",
    "                    w_arrival = arrivals[arrival_lookahead_index].arrival_time\n",
    "                    w_departure = cumulative_service_time + arrivals[service_lookahead_index].slow_service_time\n",
    "                    #print(\"arrival lookahead index %d, next arrival %.2f\" % (arrival_lookahead_index, w_arrival))\n",
    "                    #print(\"next departure %.2f\" % (w_departure))\n",
    "                    if w_arrival <= w_departure and w_arrival <= min(w_lookahead, Tmax):\n",
    "                        num_arrivals += 1\n",
    "                        arrival_lookahead_index += 1\n",
    "                    elif w_departure <= min(w_lookahead, Tmax):\n",
    "                        cumulative_service_time = w_departure\n",
    "                        num_departures += 1      \n",
    "                        service_lookahead_index += 1\n",
    "                    else:\n",
    "                        break\n",
    "                        \n",
    "                    if num_departures >= num_arrivals \\\n",
    "                        and num_departures > 0: # use the slow service rate \n",
    "                        use_slow = True\n",
    "                        break\n",
    "                        \n",
    "                if use_slow:\n",
    "                    servers.append(wcustomer_with_parameters(arrival, T[-1], False))\n",
    "                    print(\"Look ahead from %d at time %.3f has Departures %d Arrivals %d -> use SLOW 1\" % (N[-1], T[-1], num_departures, num_arrivals))\n",
    "                else: # use the fast service rate\n",
    "                    servers.append(wcustomer_with_parameters(arrival, T[-1], True))\n",
    "                    #arrivals[arrival.arrival_index] = wcustomer_deleted(arrivals[arrival.arrival_index])\n",
    "                    if T[-1] > 1000:\n",
    "                        use_surge_num += 1\n",
    "                    print(\"Look ahead from %d at time %.3f has Departures %d Arrivals %d -> use FAST 1\" % (N[-1], T[-1], num_departures, num_arrivals))\n",
    "                if T[-1] > 1000:\n",
    "                    use_surge_denom += 1\n",
    "            else:\n",
    "                queue.append(arrival)\n",
    "            #print(\"ARRIVAL %.3f departure %.3f abandonment %.3f\" % (next_arrival, next_departure, next_abandonment))\n",
    "        ##### DEPARTURE #####     \n",
    "        else:\n",
    "            N.append(N[-1]-1)\n",
    "            popped_customer = servers.pop(0)\n",
    "            T_in = popped_customer.arrival_time\n",
    "            if T_in>0:\n",
    "                waiting_times.append(T[-1] - T_in)\n",
    "                \n",
    "            # put the next person from the queue into the server\n",
    "            if len(queue) > 0:\n",
    "                next_to_enter = queue.pop(0)\n",
    "                # w-lookahead: decide whether to use fast or slow service rate\n",
    "                cumulative_service_time = T[-1]\n",
    "                w_lookahead = T[-1] + w\n",
    "                num_arrivals = 0\n",
    "                num_departures = 0\n",
    "                arrival_lookahead_index = arrival_index\n",
    "                service_lookahead_index = next_to_enter.arrival_index\n",
    "                use_slow = False\n",
    "                while arrival_lookahead_index < arrivals_len and service_lookahead_index < arrivals_len:\n",
    "                    w_arrival = arrivals[arrival_lookahead_index].arrival_time\n",
    "                    w_departure = cumulative_service_time + arrivals[service_lookahead_index].slow_service_time\n",
    "                    #print(\"arrival lookahead index %d, next arrival %.2f\" % (arrival_lookahead_index, w_arrival))\n",
    "                    #print(\"next departure %.2f\" % (w_departure))\n",
    "                        \n",
    "                    if w_arrival <= w_departure and w_arrival <= min(w_lookahead, Tmax):\n",
    "                        num_arrivals += 1\n",
    "                        arrival_lookahead_index += 1\n",
    "                        w_arrival = arrivals[arrival_lookahead_index].arrival_time\n",
    "                    elif w_departure <= min(w_lookahead, Tmax):\n",
    "                        cumulative_service_time = w_departure\n",
    "                        num_departures += 1      \n",
    "                        service_lookahead_index += 1\n",
    "                    else:\n",
    "                        break\n",
    "                        \n",
    "                    if num_departures >= num_arrivals \\\n",
    "                        and num_departures > 0: # use the slow service rate \n",
    "                        use_slow = True\n",
    "                        break\n",
    "                        \n",
    "                if use_slow:\n",
    "                    servers.append(wcustomer_with_parameters(next_to_enter, T[-1], False))\n",
    "                    print(\"Look ahead from %d at time %.3f has Departures %d Arrivals %d -> use SLOW 2\" % (N[-1], T[-1], num_departures, num_arrivals))\n",
    "                else: # use the fast service rate\n",
    "                    servers.append(wcustomer_with_parameters(next_to_enter, T[-1], True))\n",
    "                    #arrivals[next_to_enter.arrival_index] = wcustomer_deleted(arrivals[next_to_enter.arrival_index])\n",
    "                    if T[-1] > 1000:\n",
    "                        use_surge_num += 1\n",
    "                    print(\"Look ahead from %d at time %.3f has Departures %d Arrivals %d -> use FAST 2\" % (N[-1], T[-1], num_departures, num_arrivals))\n",
    "                if T[-1] > 1000:\n",
    "                    use_surge_denom += 1\n",
    "        \n",
    "        if arrival_index < arrivals_len:\n",
    "            next_arrival = arrivals[arrival_index].arrival_time\n",
    "        else:\n",
    "            next_arrival = inf()\n",
    "        \n",
    "        if len(servers) > 0:\n",
    "            next_departure = servers[0].service_time\n",
    "        else:\n",
    "            next_departure = inf()\n",
    "        \n",
    "    # discard Tmax\n",
    "    T = T[:-1] \n",
    "    N = N[:-1]\n",
    "    return T, N, waiting_times, use_surge_num / use_surge_denom"
   ]
  },
  {
   "cell_type": "code",
   "execution_count": null,
   "metadata": {},
   "outputs": [],
   "source": []
  },
  {
   "cell_type": "markdown",
   "metadata": {},
   "source": [
    "# Graphs and Results"
   ]
  },
  {
   "cell_type": "code",
   "execution_count": 9,
   "metadata": {},
   "outputs": [],
   "source": [
    "# Start and end proportions for graphing\n",
    "start_prop = 0 #0.055\n",
    "end_prop = 1 #0.058"
   ]
  },
  {
   "cell_type": "code",
   "execution_count": 10,
   "metadata": {},
   "outputs": [],
   "source": [
    "#arrivals = gen_arrivals(lambd, mu1, mu2, Tmax)"
   ]
  },
  {
   "cell_type": "code",
   "execution_count": 35,
   "metadata": {},
   "outputs": [
    {
     "data": {
      "text/plain": [
       "Text(0.5,1,'Number of clients in the M/M/C queue 1.00/0.95/1, with no policy')"
      ]
     },
     "execution_count": 35,
     "metadata": {},
     "output_type": "execute_result"
    },
    {
     "data": {
      "image/png": "[encoded data removed]",
      "text/plain": [
       "<Figure size 1080x432 with 1 Axes>"
      ]
     },
     "metadata": {},
     "output_type": "display_data"
    }
   ],
   "source": [
    "T1, N1, _ = MM1Normal(arrivals, c, Tmax)\n",
    "start_index1 = int(len(T1)*start_prop)\n",
    "end_index1 = int(len(T1)*end_prop)\n",
    "figure(figsize=(15,6))\n",
    "plot(T1[start_index1:end_index1], N1[start_index1:end_index1])\n",
    "scatter(T1[start_index1:end_index1], N1[start_index1:end_index1])\n",
    "xlabel('Time')\n",
    "ylabel('Number of clients')\n",
    "title('Number of clients in the M/M/C queue %.2f/%.2f/%d, with no policy' % (lambd, mu1, c))"
   ]
  },
  {
   "cell_type": "code",
   "execution_count": 36,
   "metadata": {},
   "outputs": [
    {
     "name": "stdout",
     "output_type": "stream",
     "text": [
      "Look ahead from 1 at time 0.000 has Departures 2 Arrivals 2 -> use SLOW 1\n",
      "Look ahead from 1 at time 2.000 has Departures 1 Arrivals 0 -> use SLOW 2\n",
      "Look ahead from 1 at time 4.000 has Departures 0 Arrivals 3 -> use FAST 1\n",
      "Look ahead from 1 at time 5.000 has Departures 0 Arrivals 2 -> use FAST 1\n",
      "Look ahead from 1 at time 6.000 has Departures 0 Arrivals 1 -> use FAST 1\n",
      "Look ahead from 1 at time 999999.000 has Departures 0 Arrivals 1 -> use FAST 1\n",
      "Use surge 1.00\n"
     ]
    },
    {
     "data": {
      "image/png": "[encoded data removed]",
      "text/plain": [
       "<Figure size 1080x432 with 1 Axes>"
      ]
     },
     "metadata": {},
     "output_type": "display_data"
    }
   ],
   "source": [
    "T3, N3, _, use_surge = MM1WithWLookaheadConstant(arrivals, c, w, Tmax)\n",
    "\n",
    "start_index3 = int(len(T3)*start_prop)\n",
    "end_index3 = int(len(T3)*end_prop)\n",
    "figure(figsize=(15,6))\n",
    "#scatter(T3[start_index:end_index], N3[start_index:end_index])\n",
    "plot(T3[start_index3:end_index3], N3[start_index3:end_index3])\n",
    "xlabel('Time')\n",
    "ylabel('Number of clients')\n",
    "title('Number of clients in the M/M/C queue %.2f/%.2f/%d, with w-lookahead online'\n",
    "      % (lambd, mu1, c))\n",
    "print(\"Use surge %.2f\" % (use_surge))"
   ]
  },
  {
   "cell_type": "code",
   "execution_count": 13,
   "metadata": {},
   "outputs": [
    {
     "data": {
      "text/plain": [
       "14"
      ]
     },
     "execution_count": 13,
     "metadata": {},
     "output_type": "execute_result"
    }
   ],
   "source": [
    "len(N1)"
   ]
  },
  {
   "cell_type": "code",
   "execution_count": 14,
   "metadata": {},
   "outputs": [
    {
     "ename": "ZeroDivisionError",
     "evalue": "division by zero",
     "output_type": "error",
     "traceback": [
      "\u001b[0;31m---------------------------------------------------------------------------\u001b[0m",
      "\u001b[0;31mZeroDivisionError\u001b[0m                         Traceback (most recent call last)",
      "\u001b[0;32m<ipython-input-14-b8ec209d5c4d>\u001b[0m in \u001b[0;36m<module>\u001b[0;34m()\u001b[0m\n\u001b[0;32m----> 1\u001b[0;31m \u001b[0mT2\u001b[0m\u001b[0;34m,\u001b[0m \u001b[0mN2\u001b[0m\u001b[0;34m,\u001b[0m \u001b[0m_\u001b[0m\u001b[0;34m,\u001b[0m \u001b[0muse_surge\u001b[0m \u001b[0;34m=\u001b[0m \u001b[0mMM1WithOneThreshold\u001b[0m\u001b[0;34m(\u001b[0m\u001b[0marrivals\u001b[0m\u001b[0;34m,\u001b[0m \u001b[0msurge_threshold\u001b[0m\u001b[0;34m,\u001b[0m \u001b[0mc\u001b[0m\u001b[0;34m,\u001b[0m \u001b[0mTmax\u001b[0m\u001b[0;34m)\u001b[0m\u001b[0;34m\u001b[0m\u001b[0m\n\u001b[0m\u001b[1;32m      2\u001b[0m \u001b[0;34m\u001b[0m\u001b[0m\n\u001b[1;32m      3\u001b[0m \u001b[0mstart_index2\u001b[0m \u001b[0;34m=\u001b[0m \u001b[0mint\u001b[0m\u001b[0;34m(\u001b[0m\u001b[0mlen\u001b[0m\u001b[0;34m(\u001b[0m\u001b[0mT2\u001b[0m\u001b[0;34m)\u001b[0m\u001b[0;34m*\u001b[0m\u001b[0mstart_prop\u001b[0m\u001b[0;34m)\u001b[0m\u001b[0;34m\u001b[0m\u001b[0m\n\u001b[1;32m      4\u001b[0m \u001b[0mend_index2\u001b[0m \u001b[0;34m=\u001b[0m \u001b[0mint\u001b[0m\u001b[0;34m(\u001b[0m\u001b[0mlen\u001b[0m\u001b[0;34m(\u001b[0m\u001b[0mT2\u001b[0m\u001b[0;34m)\u001b[0m\u001b[0;34m*\u001b[0m\u001b[0mend_prop\u001b[0m\u001b[0;34m)\u001b[0m\u001b[0;34m\u001b[0m\u001b[0m\n\u001b[1;32m      5\u001b[0m \u001b[0mfigure\u001b[0m\u001b[0;34m(\u001b[0m\u001b[0mfigsize\u001b[0m\u001b[0;34m=\u001b[0m\u001b[0;34m(\u001b[0m\u001b[0;36m15\u001b[0m\u001b[0;34m,\u001b[0m\u001b[0;36m6\u001b[0m\u001b[0;34m)\u001b[0m\u001b[0;34m)\u001b[0m\u001b[0;34m\u001b[0m\u001b[0m\n",
      "\u001b[0;32m<ipython-input-7-f53ab9bcd191>\u001b[0m in \u001b[0;36mMM1WithOneThreshold\u001b[0;34m(arrivals, surge_threshold, c, Tmax)\u001b[0m\n\u001b[1;32m     75\u001b[0m     \u001b[0mT\u001b[0m \u001b[0;34m=\u001b[0m \u001b[0mT\u001b[0m\u001b[0;34m[\u001b[0m\u001b[0;34m:\u001b[0m\u001b[0;34m-\u001b[0m\u001b[0;36m1\u001b[0m\u001b[0;34m]\u001b[0m\u001b[0;34m\u001b[0m\u001b[0m\n\u001b[1;32m     76\u001b[0m     \u001b[0mN\u001b[0m \u001b[0;34m=\u001b[0m \u001b[0mN\u001b[0m\u001b[0;34m[\u001b[0m\u001b[0;34m:\u001b[0m\u001b[0;34m-\u001b[0m\u001b[0;36m1\u001b[0m\u001b[0;34m]\u001b[0m\u001b[0;34m\u001b[0m\u001b[0m\n\u001b[0;32m---> 77\u001b[0;31m     \u001b[0;32mreturn\u001b[0m \u001b[0mT\u001b[0m\u001b[0;34m,\u001b[0m \u001b[0mN\u001b[0m\u001b[0;34m,\u001b[0m \u001b[0mwaiting_times\u001b[0m\u001b[0;34m,\u001b[0m \u001b[0muse_surge_num\u001b[0m \u001b[0;34m/\u001b[0m \u001b[0muse_surge_denom\u001b[0m\u001b[0;34m\u001b[0m\u001b[0m\n\u001b[0m",
      "\u001b[0;31mZeroDivisionError\u001b[0m: division by zero"
     ]
    }
   ],
   "source": [
    "T2, N2, _, use_surge = MM1WithOneThreshold(arrivals, surge_threshold, c, Tmax)\n",
    "\n",
    "start_index2 = int(len(T2)*start_prop)\n",
    "end_index2 = int(len(T2)*end_prop)\n",
    "figure(figsize=(15,6))\n",
    "plot(T2[start_index2:end_index2], N2[start_index2:end_index2])\n",
    "xlabel('Time')\n",
    "ylabel('Number of clients')\n",
    "title('Number of clients in the M/M/C queue %.2f/%.2f/%d, with threshold %d'\n",
    "      % (lambd, mu1, c, surge_threshold))\n",
    "print(\"Use surge %.2f\" % (use_surge))"
   ]
  },
  {
   "cell_type": "code",
   "execution_count": null,
   "metadata": {},
   "outputs": [],
   "source": [
    "figure(figsize=(15,7))\n",
    "plot(T1[start_index1:end_index1], N1[start_index1:end_index1], label=\"Q_0\")\n",
    "plot(T2[start_index2:end_index2], N2[start_index2:end_index2], label=\"after applying threshold=80\")\n",
    "plot(T3[start_index3:end_index3], N3[start_index3:end_index3], label=\"after applying no job left behind\")\n",
    "xlabel('Time')\n",
    "ylabel('Number of clients')\n",
    "legend()\n",
    "title('Number of clients in the M/M/C queue %.2f/%.2f/%d, with different heuristics'\n",
    "      % (lambd, mu1, c))"
   ]
  },
  {
   "cell_type": "code",
   "execution_count": null,
   "metadata": {},
   "outputs": [],
   "source": [
    "'''##### SURGE count and proportion #####\n",
    "            if T[-1] >= 1000 and T[-1] <= 9000:\n",
    "                if in_surge == 0 and S == 0: # first time, mark t_temp\n",
    "                    start_measuring_surge = T[-2]\n",
    "                t_delta = T[-1] - popped_customer.enter_service_time\n",
    "                S = S + (t_delta * N[-2])\n",
    "                if popped_customer.fast:\n",
    "                    in_surge = in_surge + t_delta\n",
    "            if T[-1] > 9000:\n",
    "                if end_measuring_surge == 0:\n",
    "                    end_measuring_surge = T[-1]'''"
   ]
  },
  {
   "cell_type": "code",
   "execution_count": null,
   "metadata": {},
   "outputs": [],
   "source": []
  },
  {
   "cell_type": "code",
   "execution_count": null,
   "metadata": {},
   "outputs": [],
   "source": []
  },
  {
   "cell_type": "code",
   "execution_count": null,
   "metadata": {},
   "outputs": [],
   "source": []
  }
 ],
 "metadata": {
  "kernelspec": {
   "display_name": "Python 3",
   "language": "python",
   "name": "python3"
  },
  "language_info": {
   "codemirror_mode": {
    "name": "ipython",
    "version": 3
   },
   "file_extension": ".py",
   "mimetype": "text/x-python",
   "name": "python",
   "nbconvert_exporter": "python",
   "pygments_lexer": "ipython3",
   "version": "3.6.5"
  }
 },
 "nbformat": 4,
 "nbformat_minor": 2
}
