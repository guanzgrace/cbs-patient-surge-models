{
 "cells": [
  {
   "cell_type": "markdown",
   "metadata": {},
   "source": [
    "We implement the speeding up at no job left behind in the completely online version of the policy, and see if it matches our heuristic."
   ]
  },
  {
   "cell_type": "code",
   "execution_count": 1,
   "metadata": {},
   "outputs": [],
   "source": [
    "%matplotlib inline\n",
    "from pylab import *\n",
    "import sys\n",
    "from collections import namedtuple\n",
    "import random\n",
    "import time\n",
    "import numpy as np"
   ]
  },
  {
   "cell_type": "code",
   "execution_count": 2,
   "metadata": {},
   "outputs": [],
   "source": [
    "def log_normal(mu=0, sigma=1):\n",
    "    return e**(mu+sigma*np.random.normal())\n",
    "\n",
    "def exp_samples(lambd=1,n=1):\n",
    "    \"\"\"\n",
    "    generates a numpy array of n samples distributed according to\n",
    "    an exponential distribution with parameter λ\n",
    "    \"\"\"\n",
    "    random.seed(time.time())\n",
    "    return (-1/lambd)*log(rand(n))\n",
    "\n",
    "def exp(lambd=1):\n",
    "    \"\"\"\n",
    "    generates a sample distributed according to\n",
    "    an exponential distribution with parameter λ\n",
    "    \"\"\"\n",
    "    if lambd < 0:\n",
    "        return inf()\n",
    "    random.seed(time.time())\n",
    "    return (-1/lambd)*log(rand())\n",
    "\n",
    "def inf():\n",
    "    return 999999\n",
    "\n",
    "\n",
    "def printarray(a): \n",
    "    print(np.around(a, 3))\n",
    "    "
   ]
  },
  {
   "cell_type": "code",
   "execution_count": 3,
   "metadata": {},
   "outputs": [],
   "source": [
    "def gen_interarrivals_and_services(lambd, mu1, n):\n",
    "    return exp_samples(lambd, n), exp_samples(mu1, n)"
   ]
  },
  {
   "cell_type": "code",
   "execution_count": 4,
   "metadata": {},
   "outputs": [],
   "source": [
    "def lambd_range(k, g):\n",
    "    print(\"Min range %f\" % (1-k))\n",
    "    print(\"Max range %f\" % (1-k+g*k))\n",
    "\n",
    "def min_threshold(lambd, mu1, mu2, g):\n",
    "    rho1 = lambd / mu1\n",
    "    rho2 = lambd / mu2\n",
    "    return math.ceil(math.log((g*(1-rho2)*rho1) / ((1-rho1)*rho2 - g*(rho2 - rho1)), rho1))\n",
    "\n",
    "def min_g(lambd, mu1, mu2):\n",
    "    rho1 = lambd / mu1\n",
    "    rho2 = lambd / mu2\n",
    "    return (rho1*rho2 - rho2) / (rho1 - rho2)"
   ]
  },
  {
   "cell_type": "code",
   "execution_count": 16,
   "metadata": {},
   "outputs": [],
   "source": [
    "k = 0.1\n",
    "g = .21\n",
    "mu1 = 1 - k\n",
    "mu2 = 1\n",
    "n = 100000\n",
    "\n",
    "\n",
    "    \n",
    "# Indicies for counting surge\n",
    "start = int(0.1 * n)\n",
    "end = int(0.9 * n)"
   ]
  },
  {
   "cell_type": "code",
   "execution_count": 17,
   "metadata": {},
   "outputs": [
    {
     "name": "stdout",
     "output_type": "stream",
     "text": [
      "Min range 0.900000\n",
      "Max range 0.921000\n",
      "None\n"
     ]
    }
   ],
   "source": [
    "print(lambd_range(k, g))\n",
    "lambd = 0.92"
   ]
  },
  {
   "cell_type": "code",
   "execution_count": 18,
   "metadata": {},
   "outputs": [],
   "source": [
    "threshold = min_threshold(lambd, mu1, 1, g)"
   ]
  },
  {
   "cell_type": "code",
   "execution_count": 19,
   "metadata": {},
   "outputs": [],
   "source": [
    "interarrivals, services = gen_interarrivals_and_services(lambd, mu1, n)\n",
    "\n",
    "arrival_times = []\n",
    "for i in range(len(interarrivals)):\n",
    "    arrival_times.append(sum(interarrivals[0:i + 1]))\n",
    "#print(arrival_times)\n",
    "\n",
    "service_times = [arrival_times[0] + services[0]]\n",
    "for i in range(1, len(services)):\n",
    "    service_times.append(max(arrival_times[i], service_times[i - 1]) + services[i])\n",
    "#print(service_times)"
   ]
  },
  {
   "cell_type": "code",
   "execution_count": 20,
   "metadata": {},
   "outputs": [],
   "source": [
    "def generate_T_N(interarrivals, services):\n",
    "    T = [0]\n",
    "    N = [0]\n",
    "\n",
    "    arrival_index = 0\n",
    "    service_index = 0\n",
    "  \n",
    "    arrival_times = []\n",
    "    for i in range(len(interarrivals)):\n",
    "        arrival_times.append(sum(interarrivals[0:i + 1]))\n",
    "    #print(arrival_times)\n",
    "\n",
    "    service_times = [arrival_times[0] + services[0]]\n",
    "    for i in range(1, len(services)):\n",
    "        service_times.append(max(arrival_times[i], service_times[i - 1]) + services[i])\n",
    "    #print(service_times)\n",
    "\n",
    "    next_arrival = arrival_times[arrival_index]\n",
    "    next_service = service_times[service_index]\n",
    "\n",
    "    while min(next_arrival, next_service) != inf():\n",
    "        if next_arrival < next_service:\n",
    "            N.append(N[-1] + 1)\n",
    "            T.append(next_arrival)\n",
    "            arrival_index += 1\n",
    "            if arrival_index == len(arrival_times):\n",
    "                next_arrival = inf()\n",
    "            else:\n",
    "                next_arrival = arrival_times[arrival_index]\n",
    "        else:\n",
    "            N.append(N[-1] - 1)\n",
    "            T.append(next_service)\n",
    "            service_index += 1\n",
    "            if service_index == len(service_times):\n",
    "                next_service = inf()\n",
    "            else:\n",
    "                next_service = service_times[service_index]\n",
    "\n",
    "    return T, N"
   ]
  },
  {
   "cell_type": "code",
   "execution_count": 21,
   "metadata": {},
   "outputs": [],
   "source": [
    "# WRONG DO NOT USE\n",
    "\n",
    "def implement_threshold(interarrvials, services, threshold):\n",
    "    T = [0]\n",
    "    N = [0]\n",
    "    in_surge_num = 0\n",
    "    in_surge_denom = 0\n",
    "    S = 0\n",
    "    start_measuring_surge = 0\n",
    "\n",
    "    arrival_index = 0\n",
    "    service_index = 0\n",
    "  \n",
    "    arrival_times = []\n",
    "    for i in range(len(interarrivals)):\n",
    "        arrival_times.append(sum(interarrivals[0:i + 1]))\n",
    "    #print(arrival_times)\n",
    "\n",
    "    service_times = [arrival_times[0] + services[0]]\n",
    "    for i in range(1, len(services)):\n",
    "        service_times.append(max(arrival_times[i], service_times[i - 1]) + services[i])\n",
    "    #print(service_times)\n",
    "\n",
    "    next_arrival = arrival_times[arrival_index]\n",
    "    next_service = service_times[service_index]\n",
    "\n",
    "    while min(next_arrival, next_service) != inf():\n",
    "        if next_arrival < next_service:\n",
    "            N.append(N[-1] + 1)\n",
    "            T.append(next_arrival)\n",
    "            arrival_index += 1\n",
    "            if arrival_index == len(arrival_times):\n",
    "                next_arrival = inf()\n",
    "            else:\n",
    "                next_arrival = arrival_times[arrival_index]\n",
    "        else:\n",
    "            N.append(N[-1] - 1)\n",
    "            T.append(next_service)\n",
    "            service_index += 1\n",
    "            if T[-1] >= start and T[-1] <= end:\n",
    "                in_surge_denom += 1\n",
    "            if service_index == len(service_times):\n",
    "                next_service = inf()\n",
    "            else:\n",
    "                next_service = service_times[service_index]\n",
    "        # happens once per service index max\n",
    "        if N[-1] >= threshold:\n",
    "            services[service_index] = (mu1) * services[service_index]\n",
    "            if T[-1] >= start and T[-1] <= end:\n",
    "                in_surge_num += 1\n",
    "            for i in range(service_index, len(services)):\n",
    "                service_times[i] = max(arrival_times[i], service_times[i - 1]) + services[i]\n",
    "            next_service = service_times[service_index]\n",
    "\n",
    "        ###### SURGE count and proportion #####\n",
    "        #if T[-1] > 200:\n",
    "        #    if in_surge == 0 and S == 0: # first time, mark t_temp\n",
    "        #        start_measuring_surge = T[-2]\n",
    "        #    t_delta = T[-1] - T[-2]\n",
    "        #    S = S + (t_delta * N[-2])\n",
    "        #    if N[-2] >= threshold:\n",
    "        #        in_surge = in_surge + t_delta\n",
    "\n",
    "    #S = S / (T[-1] - start_measuring_surge)\n",
    "    #in_surge = in_surge / (T[-1] - start_measuring_surge)\n",
    "    return T, N, S, in_surge_num / in_surge_denom"
   ]
  },
  {
   "cell_type": "code",
   "execution_count": 25,
   "metadata": {},
   "outputs": [],
   "source": [
    "def implement_speedup(interarrivals, services, window):\n",
    "    w = np.zeros(n) # waiting time array\n",
    "    index = 0\n",
    "    \n",
    "    # Counting the proportion of jobs we speed up, can be no more than g\n",
    "    speed_up_num = 0\n",
    "    speed_up_denom = 0\n",
    "    start = time.time()\n",
    "\n",
    "    for index in range(n - 1):\n",
    "        #lookahead_range = 0\n",
    "        for i in range(index, min(index + window, n - 1)):\n",
    "            #lookahead_range += min(services[i] - interarrivals[i], services[i])\n",
    "            w[i + 1] = max(w[i] + services[i] - interarrivals[i], 0)\n",
    "            if w[i + 1] <= 0:\n",
    "                #print(\"Not speeding up job at T=%.2f\" % (arrival_times[index]))\n",
    "                break\n",
    "            # if we reach the end or it comes back down within a certain window\n",
    "            if i == min(index + window - 1, n - 2):\n",
    "                services[index] = (mu1) * services[index]\n",
    "                if index >= start and index <= end:\n",
    "                    speed_up_num += 1\n",
    "                break\n",
    "                    #print(\"Speeding up job at T=%.2f\" % (arrival_times[index]))\n",
    "        if index >= start and index <= end:\n",
    "            speed_up_denom += 1\n",
    "\n",
    "        w[index + 1] = max(w[index] + services[index] - interarrivals[index], 0)\n",
    "        \n",
    "        if index % 10000 == 0:\n",
    "            now = time.time()\n",
    "            print(\"Done with %d trials in %.3f s\" % (index, now - start))\n",
    "    \n",
    "    T2, N2 = generate_T_N(interarrivals, services)\n",
    "    return T2, N2, w, speed_up_num / speed_up_denom"
   ]
  },
  {
   "cell_type": "code",
   "execution_count": 28,
   "metadata": {},
   "outputs": [],
   "source": [
    "# implement speedup policy, except speed up the last 10% of patients because\n",
    "# we are approaching the end of the simulation horizon\n",
    "def implement_speedup_2(interarrivals, services, window):\n",
    "    w = np.zeros(n) # waiting time array\n",
    "    index = 0\n",
    "    \n",
    "    # Counting the proportion of jobs we speed up, can be no more than g\n",
    "    speed_up_num = 0\n",
    "    speed_up_denom = 0\n",
    "\n",
    "    for index in range(n - 1):\n",
    "        #lookahead_range = 0\n",
    "        if index == end:\n",
    "            print(speed_up_num / speed_up_denom)\n",
    "        if index >= end:\n",
    "            services[index] = (mu1) * services[index]\n",
    "            if index >= start and index <= n:\n",
    "                speed_up_num += 1\n",
    "        else: \n",
    "            for i in range(index, min(index + window, n - 1)):\n",
    "\n",
    "                #lookahead_range += min(services[i] - interarrivals[i], services[i])\n",
    "                w[i + 1] = max(w[i] + services[i] - interarrivals[i], 0)\n",
    "                if w[i + 1] <= 0:\n",
    "                    #print(\"Not speeding up job at T=%.2f\" % (arrival_times[index]))\n",
    "                    break\n",
    "                # if we reach the end or it comes back down within a certain window\n",
    "                if i == min(index + window - 1, n - 2):\n",
    "                    services[index] = (mu1) * services[index]\n",
    "                    if index >= start and index <= n:\n",
    "                        speed_up_num += 1\n",
    "                        #print(\"Speeding up job at T=%.2f\" % (arrival_times[index]))\n",
    "        if index >= start and index <= n:\n",
    "            speed_up_denom += 1\n",
    "\n",
    "        w[index + 1] = max(w[index] + services[index] - interarrivals[index], 0)\n",
    "    \n",
    "    T2, N2 = generate_T_N(interarrivals, services)\n",
    "    return T2, N2, w, speed_up_num / speed_up_denom"
   ]
  },
  {
   "cell_type": "code",
   "execution_count": null,
   "metadata": {},
   "outputs": [],
   "source": []
  },
  {
   "cell_type": "code",
   "execution_count": 30,
   "metadata": {},
   "outputs": [
    {
     "name": "stdout",
     "output_type": "stream",
     "text": [
      "k = 0.10\n",
      "g = 0.21\n",
      "\n",
      "\n",
      "\n",
      "\n",
      "Done with 0 trials in 0.000 s\n",
      "Done with 10000 trials in 423.315 s\n",
      "Done with 20000 trials in 716.752 s\n",
      "Done with 30000 trials in 897.475 s\n",
      "Done with 40000 trials in 1209.891 s\n",
      "Done with 50000 trials in 1459.949 s\n",
      "Done with 60000 trials in 1625.057 s\n",
      "Done with 70000 trials in 1764.764 s\n",
      "Done with 80000 trials in 1911.254 s\n",
      "Done with 90000 trials in 1993.959 s\n"
     ]
    },
    {
     "ename": "TypeError",
     "evalue": "slice indices must be integers or None or have an __index__ method",
     "output_type": "error",
     "traceback": [
      "\u001b[0;31m---------------------------------------------------------------------------\u001b[0m",
      "\u001b[0;31mTypeError\u001b[0m                                 Traceback (most recent call last)",
      "\u001b[0;32m<ipython-input-30-f5e6e32100f6>\u001b[0m in \u001b[0;36m<module>\u001b[0;34m()\u001b[0m\n\u001b[1;32m     16\u001b[0m \u001b[0;34m\u001b[0m\u001b[0m\n\u001b[1;32m     17\u001b[0m \u001b[0mprint\u001b[0m\u001b[0;34m(\u001b[0m\u001b[0;34m\"\\n\"\u001b[0m\u001b[0;34m)\u001b[0m\u001b[0;34m\u001b[0m\u001b[0m\n\u001b[0;32m---> 18\u001b[0;31m \u001b[0mT_njlb3\u001b[0m\u001b[0;34m,\u001b[0m \u001b[0mN_njlb3\u001b[0m\u001b[0;34m,\u001b[0m \u001b[0mw3\u001b[0m\u001b[0;34m,\u001b[0m \u001b[0min_surge_23\u001b[0m \u001b[0;34m=\u001b[0m \u001b[0mimplement_speedup\u001b[0m\u001b[0;34m(\u001b[0m\u001b[0minterarrivals\u001b[0m\u001b[0;34m.\u001b[0m\u001b[0mcopy\u001b[0m\u001b[0;34m(\u001b[0m\u001b[0;34m)\u001b[0m\u001b[0;34m,\u001b[0m \u001b[0mservices\u001b[0m\u001b[0;34m.\u001b[0m\u001b[0mcopy\u001b[0m\u001b[0;34m(\u001b[0m\u001b[0;34m)\u001b[0m\u001b[0;34m,\u001b[0m \u001b[0;36m100000\u001b[0m\u001b[0;34m)\u001b[0m\u001b[0;34m\u001b[0m\u001b[0m\n\u001b[0m\u001b[1;32m     19\u001b[0m \u001b[0mprint\u001b[0m\u001b[0;34m(\u001b[0m\u001b[0;34m\"NJLB policy with infinite lookahead, surge all of time when lookahead conditions are not met\"\u001b[0m\u001b[0;34m)\u001b[0m\u001b[0;34m\u001b[0m\u001b[0m\n\u001b[1;32m     20\u001b[0m \u001b[0mprint\u001b[0m\u001b[0;34m(\u001b[0m\u001b[0;34m\"NJLB speed up for %.2f proportion of time\"\u001b[0m \u001b[0;34m%\u001b[0m \u001b[0;34m(\u001b[0m\u001b[0min_surge_23\u001b[0m\u001b[0;34m)\u001b[0m\u001b[0;34m)\u001b[0m\u001b[0;34m\u001b[0m\u001b[0m\n",
      "\u001b[0;32m<ipython-input-25-a9eb322c6fc2>\u001b[0m in \u001b[0;36mimplement_speedup\u001b[0;34m(interarrivals, services, window)\u001b[0m\n\u001b[1;32m     33\u001b[0m \u001b[0;34m\u001b[0m\u001b[0m\n\u001b[1;32m     34\u001b[0m     \u001b[0mT2\u001b[0m\u001b[0;34m,\u001b[0m \u001b[0mN2\u001b[0m \u001b[0;34m=\u001b[0m \u001b[0mgenerate_T_N\u001b[0m\u001b[0;34m(\u001b[0m\u001b[0minterarrivals\u001b[0m\u001b[0;34m,\u001b[0m \u001b[0mservices\u001b[0m\u001b[0;34m)\u001b[0m\u001b[0;34m\u001b[0m\u001b[0m\n\u001b[0;32m---> 35\u001b[0;31m     \u001b[0;32mreturn\u001b[0m \u001b[0mT2\u001b[0m\u001b[0;34m,\u001b[0m \u001b[0mN2\u001b[0m\u001b[0;34m,\u001b[0m \u001b[0mw\u001b[0m\u001b[0;34m[\u001b[0m\u001b[0mstart\u001b[0m\u001b[0;34m:\u001b[0m\u001b[0mend\u001b[0m\u001b[0;34m]\u001b[0m\u001b[0;34m,\u001b[0m \u001b[0mspeed_up_num\u001b[0m \u001b[0;34m/\u001b[0m \u001b[0mspeed_up_denom\u001b[0m\u001b[0;34m\u001b[0m\u001b[0m\n\u001b[0m",
      "\u001b[0;31mTypeError\u001b[0m: slice indices must be integers or None or have an __index__ method"
     ]
    }
   ],
   "source": [
    "print(\"k = %.2f\" % (k))\n",
    "print(\"g = %.2f\" % (g))\n",
    "print(\"\\n\")\n",
    "T, N = generate_T_N(interarrivals.copy(), services.copy())\n",
    "'''T_threshold, N_threshold, S, in_surge = implement_threshold(interarrivals.copy(), services.copy(), threshold)\n",
    "print(\"Threshold policy with threshold %d\" % (threshold))\n",
    "print(\"Threshold speed up for %.2f proportion of time\" % (in_surge))\n",
    "print(\"Threshold avg queue length %.2f\" % (np.mean(N_threshold[start:end])))\n",
    "print(\"Threshold average Q %.2f\" % (S))'''\n",
    "'''print(\"\\n\")\n",
    "T_njlb, N_njlb, w, in_surge_2 = implement_speedup(interarrivals.copy(), services.copy(), 10000, .4)\n",
    "print(\"NJLB policy with infinite lookahead, surge 0.4 of time when lookahead conditions are not met\")\n",
    "print(\"NJLB speed up for %.2f proportion of time\" % (in_surge_2))\n",
    "print(\"NJLB avg queue length %.2f\" % (np.mean(N_njlb[start:end])))\n",
    "print(\"NJLB Expected waiting time %.2f\" % (np.mean(w)))'''\n",
    "\n",
    "print(\"\\n\")\n",
    "T_njlb3, N_njlb3, w3, in_surge_23 = implement_speedup(interarrivals.copy(), services.copy(), 100000)\n",
    "print(\"NJLB policy with infinite lookahead, surge all of time when lookahead conditions are not met\")\n",
    "print(\"NJLB speed up for %.2f proportion of time\" % (in_surge_23))\n",
    "print(\"NJLB Expected waiting time %.2f\" % (np.mean(w3[start:end])))\n",
    "\n",
    "'''print(\"\\n\")\n",
    "\n",
    "T_njlb2, N_njlb2, w2, in_surge_22 = implement_speedup_2(interarrivals.copy(), services.copy(), 10000)\n",
    "print(\"NJLB policy with infinite lookahead, surge last 10% of jobs\")\n",
    "print(\"NJLB speed up for %.2f proportion of time\" % (in_surge_22))\n",
    "print(\"NJLB Expected waiting time %.2f\" % (np.mean(w2)))\n",
    "'''"
   ]
  },
  {
   "cell_type": "code",
   "execution_count": null,
   "metadata": {
    "scrolled": true
   },
   "outputs": [],
   "source": [
    "\n",
    "figure(figsize=(15,6))\n",
    "plot(T[:180000], N[:180000], label='Sample Path')\n",
    "#plot(T_threshold[:180000], N_threshold[:18000], label='Sample Path with threshold %d' % (threshold))\n",
    "#plot(T_njlb[:18000], N_njlb[:18000], label='Sample Path with no job left behind, surge 40%')\n",
    "plot(T_njlb3[:180000], N_njlb3[:180000], label='Sample Path with no job left behind surge normally')\n",
    "#plot(T_njlb2[:18000], N_njlb2[:18000], label='Sample Path with no job left behind surge normally and last 10%')\n",
    "xlabel('Time')\n",
    "ylabel('Number in Queue')\n",
    "title(\"Speed Up Policies\")\n",
    "legend()"
   ]
  },
  {
   "cell_type": "code",
   "execution_count": 53,
   "metadata": {},
   "outputs": [
    {
     "name": "stdout",
     "output_type": "stream",
     "text": [
      "NJLB speed up for 0.77 proportion of time\n",
      "NJLB Expected waiting time 10.28\n"
     ]
    }
   ],
   "source": [
    "\n",
    "T_njlb2, N_njlb2, w2, in_surge_22 = implement_speedup(interarrivals.copy(), services.copy(), 10, 1)\n",
    "print(\"NJLB speed up for %.2f proportion of time\" % (in_surge_22))\n",
    "print(\"NJLB Expected waiting time %.2f\" % (np.mean(w2)))"
   ]
  },
  {
   "cell_type": "code",
   "execution_count": 54,
   "metadata": {},
   "outputs": [
    {
     "name": "stdout",
     "output_type": "stream",
     "text": [
      "NJLB speed up for 0.49 proportion of time\n",
      "NJLB Expected waiting time 11.60\n"
     ]
    }
   ],
   "source": [
    "\n",
    "T_njlb2, N_njlb2, w2, in_surge_22 = implement_speedup(interarrivals.copy(), services.copy(), 100, 1)\n",
    "print(\"NJLB speed up for %.2f proportion of time\" % (in_surge_22))\n",
    "print(\"NJLB Expected waiting time %.2f\" % (np.mean(w2)))"
   ]
  },
  {
   "cell_type": "code",
   "execution_count": null,
   "metadata": {},
   "outputs": [],
   "source": [
    "\n",
    "T_njlb2, N_njlb2, w2, in_surge_22 = implement_speedup(interarrivals.copy(), services.copy(), 10000, 1)\n",
    "print(\"NJLB speed up for %.2f proportion of time\" % (in_surge_22))\n",
    "print(\"NJLB Expected waiting time %.2f\" % (np.mean(w2)))"
   ]
  },
  {
   "cell_type": "code",
   "execution_count": null,
   "metadata": {},
   "outputs": [],
   "source": [
    "\n",
    "T_njlb, N_njlb, w, in_surge_2 = implement_speedup_2(interarrivals.copy(), services.copy(), 10000, 1)\n",
    "print(\"NJLB speed up for %.2f proportion of time\" % (in_surge_2))\n",
    "print(\"NJLB Expected waiting time %.2f\" % (np.mean(w)))"
   ]
  },
  {
   "cell_type": "code",
   "execution_count": null,
   "metadata": {},
   "outputs": [],
   "source": []
  },
  {
   "cell_type": "code",
   "execution_count": null,
   "metadata": {},
   "outputs": [],
   "source": []
  },
  {
   "cell_type": "code",
   "execution_count": null,
   "metadata": {},
   "outputs": [],
   "source": []
  },
  {
   "cell_type": "code",
   "execution_count": null,
   "metadata": {},
   "outputs": [],
   "source": []
  },
  {
   "cell_type": "code",
   "execution_count": null,
   "metadata": {},
   "outputs": [],
   "source": []
  },
  {
   "cell_type": "code",
   "execution_count": null,
   "metadata": {},
   "outputs": [],
   "source": []
  },
  {
   "cell_type": "code",
   "execution_count": null,
   "metadata": {},
   "outputs": [],
   "source": []
  },
  {
   "cell_type": "code",
   "execution_count": null,
   "metadata": {},
   "outputs": [],
   "source": []
  },
  {
   "cell_type": "code",
   "execution_count": null,
   "metadata": {},
   "outputs": [],
   "source": []
  },
  {
   "cell_type": "code",
   "execution_count": null,
   "metadata": {},
   "outputs": [],
   "source": []
  },
  {
   "cell_type": "code",
   "execution_count": null,
   "metadata": {},
   "outputs": [],
   "source": []
  },
  {
   "cell_type": "code",
   "execution_count": null,
   "metadata": {},
   "outputs": [],
   "source": []
  },
  {
   "cell_type": "code",
   "execution_count": null,
   "metadata": {},
   "outputs": [],
   "source": []
  },
  {
   "cell_type": "code",
   "execution_count": null,
   "metadata": {},
   "outputs": [],
   "source": []
  },
  {
   "cell_type": "code",
   "execution_count": null,
   "metadata": {},
   "outputs": [],
   "source": []
  },
  {
   "cell_type": "code",
   "execution_count": null,
   "metadata": {},
   "outputs": [],
   "source": []
  }
 ],
 "metadata": {
  "kernelspec": {
   "display_name": "Python 3",
   "language": "python",
   "name": "python3"
  },
  "language_info": {
   "codemirror_mode": {
    "name": "ipython",
    "version": 3
   },
   "file_extension": ".py",
   "mimetype": "text/x-python",
   "name": "python",
   "nbconvert_exporter": "python",
   "pygments_lexer": "ipython3",
   "version": "3.6.5"
  }
 },
 "nbformat": 4,
 "nbformat_minor": 2
}
