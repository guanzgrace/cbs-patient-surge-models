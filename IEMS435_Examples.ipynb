{
 "cells": [
  {
   "cell_type": "code",
   "execution_count": 64,
   "metadata": {},
   "outputs": [],
   "source": [
    "%matplotlib inline\n",
    "from pylab import *\n",
    "import sys\n",
    "from collections import namedtuple\n",
    "import random\n",
    "import time"
   ]
  },
  {
   "cell_type": "code",
   "execution_count": 4,
   "metadata": {},
   "outputs": [
    {
     "name": "stdout",
     "output_type": "stream",
     "text": [
      "Service Intensity when mu=2, N0=2, C=3: 4\n"
     ]
    }
   ],
   "source": [
    "######################################################\n",
    "# Specify the service intensity, where n is the number \n",
    "# of users in the system and c the number of servers\n",
    "def service_intensity(mu,n,c):\n",
    "    # returns the service intensity\n",
    "    return mu * min(n, c)\n",
    "######################################################\n",
    "C,lambd,mu,N0 = 3,4,2,2\n",
    "print(\"Service Intensity when mu=%d, N0=%d, C=%d: %d\" % (mu,N0,C,service_intensity(mu,N0,C)))"
   ]
  },
  {
   "cell_type": "code",
   "execution_count": 129,
   "metadata": {},
   "outputs": [],
   "source": [
    "# Basic M/M/C queue\n",
    "\n",
    "def MMC(C=3,lambd=4,mu=2.,N0=0,Tmax=100):\n",
    "    T             = [0]  # list of instants of events\n",
    "    N             = [N0] # initial state of the system\n",
    "    # arrival times of clients in the system,\n",
    "    # arbitrarily set to -1 for clients present at t=0\n",
    "    arrival_times = [-1 for k in range(N0)] \n",
    "    D             = [] # times spent by users inside the system\n",
    "    \n",
    "    while T[-1]<Tmax:\n",
    "        ##########################################\n",
    "        # Complete the code\n",
    "        mu_state  = service_intensity(mu, N[-1], C) # current service intensity\n",
    "        \n",
    "        # if empty, we can only have an arrival\n",
    "        if N[-1]==0:\n",
    "            # inter-events delay for empty buffer:\n",
    "            tau     = -1./lambd*log(rand()) \n",
    "            event = 1\n",
    "            \n",
    "        # if not empty, we can have an arrival or a departure\n",
    "        else:\n",
    "            # inter-events delay for non-empty buffer:\n",
    "            tau     = -1./(lambd + mu_state)*log(rand()) \n",
    "            p_arrival = lambd / (lambd + mu_state)\n",
    "            # event =+1 for an arrival, =-1 for a departure:\n",
    "            event = 2*(rand()<p_arrival)-1 # +1 for an arrival, -1 for a departure\n",
    "        \n",
    "        N.append(N[-1]+event)\n",
    "        T.append(T[-1]+tau)\n",
    "        \n",
    "        if event == 1:\n",
    "            arrival_times.append(T[-1])\n",
    "        else:\n",
    "            # entry time of client going out the system:\n",
    "            T_in = arrival_times.pop(0)\n",
    "            if T_in>0:\n",
    "                D.append(T[-1] - T_in)\n",
    "        ############################################        \n",
    "    T  = T[:-1] # event after Tmax is discarded\n",
    "    N  = N[:-1]\n",
    "    return T,N,D"
   ]
  },
  {
   "cell_type": "code",
   "execution_count": 131,
   "metadata": {},
   "outputs": [
    {
     "name": "stdout",
     "output_type": "stream",
     "text": [
      "0.7661943105123404\n"
     ]
    }
   ],
   "source": [
    "T,N,D = MMC(Tmax=1000)\n",
    "#----\n",
    "V2 = mean(D)\n",
    "print(V2)"
   ]
  },
  {
   "cell_type": "code",
   "execution_count": null,
   "metadata": {},
   "outputs": [],
   "source": []
  },
  {
   "cell_type": "code",
   "execution_count": null,
   "metadata": {},
   "outputs": [],
   "source": []
  },
  {
   "cell_type": "code",
   "execution_count": null,
   "metadata": {},
   "outputs": [],
   "source": []
  },
  {
   "cell_type": "code",
   "execution_count": null,
   "metadata": {},
   "outputs": [],
   "source": []
  },
  {
   "cell_type": "code",
   "execution_count": 175,
   "metadata": {},
   "outputs": [],
   "source": [
    "def exp_samples(lambd=1,n=1):\n",
    "    \"\"\"\n",
    "    generates a numpy array of n samples distributed according to\n",
    "    an exponential distribution with parameter λ\n",
    "    \"\"\"\n",
    "    random.seed(time.time())\n",
    "    return (-1/lambd)*log(rand(n))\n",
    "\n",
    "def exp(lambd=1):\n",
    "    \"\"\"\n",
    "    generates a sample distributed according to\n",
    "    an exponential distribution with parameter λ\n",
    "    \"\"\"\n",
    "    random.seed(time.time())\n",
    "    return (-1/lambd)*log(rand())\n",
    "\n",
    "def inf():\n",
    "    return 9999\n",
    "\n",
    "Customer = namedtuple(\"Customer\", \"service_time time_remaining arrival_time\")\n",
    "# example: c = Customer(service_time = 1, time_remaining = 0.5, arrival_time = 2)\n",
    "\n",
    "def printarray(a):\n",
    "    print(np.around(a, 3))\n",
    "    \n",
    "def customer(service_time=inf(), time_remaining=inf(), arrival_time=-1):\n",
    "    return Customer(service_time=service_time, time_remaining=time_remaining, arrival_time=arrival_time)\n",
    "\n",
    "def decrease_time_remaining(customer, delta):\n",
    "    if customer.service_time == inf():\n",
    "        return customer\n",
    "    return Customer(customer.service_time, customer.time_remaining - delta, customer.arrival_time)"
   ]
  },
  {
   "cell_type": "code",
   "execution_count": 197,
   "metadata": {},
   "outputs": [],
   "source": [
    "# Example 1: M/M/1 PS queue starting as empty\n",
    "# Everyone gets served, but the queue is slower when there are more people\n",
    "\n",
    "def Exercise1(lambd=4, mu=2., Tmax=100):\n",
    "    T             = [0]  # list of times that events occur\n",
    "    t_temp        = 0    # temporary time to calculate delta\n",
    "    N             = [0]  # initial state of the system\n",
    "    \n",
    "    # remaining service time and arrival times of customers in service\n",
    "    remaining_times = []\n",
    "    \n",
    "    # times spent by users inside the system\n",
    "    waiting_times = []\n",
    "    \n",
    "    # first event must be an arrival\n",
    "    next_arrival = exp(lambd)\n",
    "    next_departure = inf()\n",
    "    \n",
    "    while T[-1] < Tmax:\n",
    "        t_temp = T[-1]\n",
    "        \n",
    "        T.append(min(next_arrival, next_departure))\n",
    "        \n",
    "        if len(remaining_times) > 0:\n",
    "            remaining_times = [decrease_time_remaining(x, (T[-1] - t_temp)/len(remaining_times))\n",
    "                               for x in remaining_times]\n",
    "            \n",
    "        # arrival\n",
    "        if T[-1] == next_arrival:\n",
    "            #print(\"ARRIVAL at %.3f. Next Departure %.3f\" % (next_arrival, next_departure))\n",
    "            N.append(N[-1]+1) \n",
    "            \n",
    "            service_time = exp(mu)\n",
    "            remaining_times.append(customer(service_time, service_time, T[-1]))\n",
    "            remaining_times.sort(key=lambda x: x.time_remaining, reverse=False)\n",
    "            next_arrival = T[-1] + exp(lambd)\n",
    "            next_departure = T[-1] + remaining_times[0].time_remaining * len(remaining_times)\n",
    "            \n",
    "        # departure\n",
    "        else: \n",
    "            #print(\"DEPARTURE at %.3f. Next arrival %.3f\" % (next_departure, next_arrival))\n",
    "            N.append(N[-1] - 1)\n",
    "           \n",
    "            popped_customer = remaining_times.pop(0)\n",
    "            #print(\"Departing \" + str(popped_customer))\n",
    "            T_in = popped_customer.arrival_time\n",
    "            if T_in>0:\n",
    "                waiting_times.append(T[-1] - T_in)\n",
    "            \n",
    "            if len(remaining_times) == 0:\n",
    "                next_departure = inf()\n",
    "            else:\n",
    "                next_departure = T[-1] + remaining_times[0].time_remaining * len(remaining_times)\n",
    "\n",
    "    return waiting_times"
   ]
  },
  {
   "cell_type": "code",
   "execution_count": 203,
   "metadata": {},
   "outputs": [],
   "source": [
    "W = Exercise1(0.9, 1, Tmax=10000)"
   ]
  },
  {
   "cell_type": "code",
   "execution_count": 204,
   "metadata": {},
   "outputs": [
    {
     "data": {
      "text/plain": [
       "9.161206029918075"
      ]
     },
     "execution_count": 204,
     "metadata": {},
     "output_type": "execute_result"
    }
   ],
   "source": [
    "mean(W)"
   ]
  },
  {
   "cell_type": "code",
   "execution_count": 185,
   "metadata": {},
   "outputs": [],
   "source": [
    "# WRONG -- SHOULD NOT BE TWO QUEUES HERE\n",
    "\n",
    "def MM1PS(C=3,lambd=4,mu=2.,N0=0,Tmax=100):\n",
    "    T             = [0]  # list of times that events occur\n",
    "    t_temp        = 0    # temporary time to calculate delta\n",
    "    N             = [N0] # initial state of the system\n",
    "    \n",
    "    # remaining service time and arrival times of customers in service\n",
    "    remaining_times = [customer() for k in range(C)]\n",
    "    num_in_service = 0\n",
    "    \n",
    "    # times spent by users inside the system\n",
    "    waiting_times = []\n",
    "    \n",
    "    # customers waiting for service to become available, by their arrival times\n",
    "    queue = []\n",
    "    \n",
    "    # first event must be an arrival\n",
    "    next_arrival = exp(lambd)\n",
    "    next_departure = inf()\n",
    "    \n",
    "    #printarray(T)\n",
    "    #printarray(N)\n",
    "    while T[-1] < Tmax:\n",
    "        t_temp = T[-1]\n",
    "        if num_in_service > 0:\n",
    "            remaining_times = [decrease_time_remaining(x, (T[-1]-t_temp)/num_in_service) for x in remaining_times]\n",
    "        \n",
    "        # arrival\n",
    "        if next_arrival < next_departure:\n",
    "            #print(\"Processing an arrival; next arrival %.3f next departure %.3f\" %(next_arrival, next_departure))\n",
    "            T.append(next_arrival)\n",
    "            N.append(N[-1]+1)\n",
    "            # if there is no free server, add the arrival to the queue\n",
    "            if remaining_times[C - 1].service_time < inf():\n",
    "                queue.append(T[-1])\n",
    "            # otherwise, assign the customer to the server\n",
    "            else:\n",
    "                service_time = exp(mu)\n",
    "                remaining_times.append(customer(service_time, service_time, T[-1]))\n",
    "                remaining_times.sort(key=lambda x: x.time_remaining, reverse=False)\n",
    "                num_in_service += 1\n",
    "            next_arrival = T[-1] + exp(lambd)\n",
    "            \n",
    "            #print(\"Next Arrival %f\" % (next_arrival))\n",
    "        \n",
    "        # departure\n",
    "        else: \n",
    "            #print(\"Processing a departure; next arrival %.3f next departure %.3f\" %(next_arrival, next_departure))\n",
    "            T.append(next_departure)\n",
    "            N.append(N[-1]-1)\n",
    "            popped_customer = remaining_times.pop(0)\n",
    "            \n",
    "            # if there is no queue, the server is free\n",
    "            if len(queue) == 0:\n",
    "                remaining_times.append(customer())\n",
    "                num_in_service -= 1\n",
    "            # otherwise, take someone off the queue\n",
    "            else:\n",
    "                arrival_time = queue.pop(0)\n",
    "                service_time = exp(mu)\n",
    "                remaining_times.append(customer(service_time, service_time, arrival_time))\n",
    "            remaining_times.sort(key=lambda x: x.time_remaining, reverse=False)\n",
    "            \n",
    "            print(popped_customer)\n",
    "            # process the departure\n",
    "            T_in = popped_customer.arrival_time\n",
    "            if T_in>0:\n",
    "                waiting_times.append(T[-1] - T_in)\n",
    "        \n",
    "        printarray(T)\n",
    "        printarray(N)\n",
    "        if N[-1] == 0:\n",
    "            next_departure = inf()\n",
    "        else:\n",
    "            next_departure = T[-1] + remaining_times[0].time_remaining * num_in_service\n",
    "        #print(\"Next Departure %f\" % (next_departure))\n",
    "        \n",
    "    T  = T[:-1] # event after Tmax is discarded\n",
    "    N  = N[:-1]\n",
    "    return T,N,waiting_times"
   ]
  },
  {
   "cell_type": "code",
   "execution_count": null,
   "metadata": {},
   "outputs": [],
   "source": []
  },
  {
   "cell_type": "code",
   "execution_count": null,
   "metadata": {},
   "outputs": [],
   "source": []
  }
 ],
 "metadata": {
  "kernelspec": {
   "display_name": "Python 3",
   "language": "python",
   "name": "python3"
  },
  "language_info": {
   "codemirror_mode": {
    "name": "ipython",
    "version": 3
   },
   "file_extension": ".py",
   "mimetype": "text/x-python",
   "name": "python",
   "nbconvert_exporter": "python",
   "pygments_lexer": "ipython3",
   "version": "3.6.5"
  }
 },
 "nbformat": 4,
 "nbformat_minor": 2
}
