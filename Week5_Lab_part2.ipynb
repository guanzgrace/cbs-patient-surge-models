{
 "cells": [
  {
   "cell_type": "markdown",
   "metadata": {},
   "source": [
    "<p><font size=\"5\">  MOOC: Understanding queues</font></p>\n",
    "<p><font size=\"5\">  Python simulations</p>\n",
    "<p><font size=\"5\">  Week V - Part II: Multi server systems</p>\n",
    "\n",
    "----------------------------"
   ]
  },
  {
   "cell_type": "markdown",
   "metadata": {},
   "source": [
    "# Introduction\n",
    "\n",
    "In this exercice, we implement the simulation of an *M/M/C* queue and the Erlang C formula. If you now feel confortable with queue simulation, maybe you will try to implement the whole Python code by yourself."
   ]
  },
  {
   "cell_type": "markdown",
   "metadata": {},
   "source": [
    "# M/M/C queues\n",
    "\n",
    "**1)** Complete the code of the **service_intensity** function that returns the service intensity, depending on the number of users in the system \n",
    "\n",
    "**2)** Complete the code of the **MMC** function that implements the $M/M/C$ queue with default arguments $C=3$, $\\lambda= 4$, $\\mu = 3$, $N_0 = 2$ and $T_{max}=100$. Outputs are instants of events $T$, system occupancy just after events occurance $N$ and the waiting times $D$ for clients entering the system.\n",
    "\n",
    "**3)** The waiting probability is given by Erlang C formula:\n",
    "\n",
    "$$\n",
    "E_C(\\rho,C) = \n",
    "    \\dfrac{\\frac{\\rho^C}{C!}\\frac{C}{C-\\rho}}{\\sum_{k=0}^{C} \\frac{\\rho^k}{k!}+\\frac{\\rho^C}{C!}\\frac{\\rho}{C-\\rho}}=\n",
    "\\dfrac{\\frac{\\rho^C}{C!}\\frac{C}{C-\\rho}}{\\sum_{k=0}^{C-1} \\frac{\\rho^k}{k!}+\\frac{\\rho^C}{C!}\\frac{C}{C-\\rho}}\\; .\n",
    "$$\n",
    "\n",
    "Complete the code of the function **E_C** that implements Erlang C formula for a givern interval of values of $C$.\n",
    "\n",
    "**4)** Check that the estimates of the mean waiting time calculated from a simulation with function **MMC** corresponds to the theoretical value for $C=2,3,4,5,6$. What would occur for $C=1$ ?\n",
    "\n",
    "------------------------\n"
   ]
  },
  {
   "cell_type": "markdown",
   "metadata": {},
   "source": [
    "### **Answer to question 1**"
   ]
  },
  {
   "cell_type": "code",
   "execution_count": 1,
   "metadata": {},
   "outputs": [],
   "source": [
    "%matplotlib inline\n",
    "from pylab import *"
   ]
  },
  {
   "cell_type": "code",
   "execution_count": 2,
   "metadata": {},
   "outputs": [],
   "source": [
    "######################################################\n",
    "# Specify the service intensity, where n is the number \n",
    "# of users in the system and c the number of servers\n",
    "def service_intensity(μ,n,c):\n",
    "    # returns the service intensity\n",
    "    return μ * min(n, c)\n",
    "######################################################\n",
    "C,λ,μ,N0 = 3,4,2,2\n",
    "V1 = service_intensity(μ,N0,C)"
   ]
  },
  {
   "cell_type": "markdown",
   "metadata": {},
   "source": [
    "### **Answer to question 2**"
   ]
  },
  {
   "cell_type": "code",
   "execution_count": 3,
   "metadata": {},
   "outputs": [],
   "source": [
    "def MMC(C=3,λ=4,μ=2.,N0=2,Tmax=100):\n",
    "    T             = [0]  # list of instants of events\n",
    "    N             = [N0] # initial state of the system\n",
    "    # arrival times of clients in the system,\n",
    "    # arbitrarily set to -1 for clients present at t=0\n",
    "    arrival_times = [-1 for k in range(N0)] \n",
    "    D             = [] # times spent by users inside the system\n",
    "    \n",
    "    print(T[-1])\n",
    "    print(Tmax)\n",
    "    while T[-1]<Tmax:\n",
    "        ##########################################\n",
    "        # Complete the code\n",
    "        μ_state  = service_intensity(μ, N[-1], C) # current service intensity\n",
    "        \n",
    "        # if empty, we can only have an arrival\n",
    "        if N[-1]==0:\n",
    "            # inter-events delay for empty buffer:\n",
    "            τ     = -1./λ*log(rand()) \n",
    "            event = 1\n",
    "            \n",
    "        # if not empty, we can have an arrival or a departure\n",
    "        else:\n",
    "            # inter-events delay for non-empty buffer:\n",
    "            τ     = -1./(λ + μ_state)*log(rand()) \n",
    "            p_arrival = λ / (λ + μ_state)\n",
    "            # event =+1 for an arrival, =-1 for a departure:\n",
    "            event = 2*(rand()<p_arrival)-1 # +1 for an arrival, -1 for a departure\n",
    "        \n",
    "        N.append(N[-1]+event)\n",
    "        T.append(T[-1]+τ)\n",
    "        \n",
    "        if event == 1:\n",
    "            arrival_times.append(T[-1])\n",
    "        else:\n",
    "            # entry time of client going out the system:\n",
    "            T_in = arrival_times.pop(0)\n",
    "            if T_in>0:\n",
    "                D.append(T[-1] - T_in)\n",
    "        ############################################        \n",
    "    T  = T[:-1] # event after Tmax is discarded\n",
    "    N  = N[:-1]\n",
    "    return T,N,D"
   ]
  },
  {
   "cell_type": "code",
   "execution_count": 4,
   "metadata": {},
   "outputs": [
    {
     "name": "stdout",
     "output_type": "stream",
     "text": [
      "0\n",
      "1000\n",
      "0.7169013614451567\n"
     ]
    }
   ],
   "source": [
    "T,N,D = MMC(Tmax=1000)\n",
    "#----\n",
    "V2 = mean(D)\n",
    "print(V2)"
   ]
  },
  {
   "cell_type": "code",
   "execution_count": 5,
   "metadata": {},
   "outputs": [
    {
     "name": "stdout",
     "output_type": "stream",
     "text": [
      "0\n",
      "100\n"
     ]
    },
    {
     "data": {
      "image/png": "[encoded data removed]",
      "text/plain": [
       "<Figure size 1080x432 with 1 Axes>"
      ]
     },
     "metadata": {},
     "output_type": "display_data"
    }
   ],
   "source": [
    "# Plotting the number of clients in the system\n",
    "T,N,D = MMC()\n",
    "figure(figsize=(15,6))\n",
    "step(T,N)\n",
    "xlabel('Time')\n",
    "ylabel('Number of clients')\n",
    "title('Number of clients in the M/M/C queue' \n",
    "      +r' ($\\rho =%g$, $C=%g$)'%(λ/μ,C))\n",
    "yticks(range(max(N)), range(max(N)));"
   ]
  },
  {
   "cell_type": "markdown",
   "metadata": {},
   "source": [
    "### **Answer to question 3**"
   ]
  },
  {
   "cell_type": "code",
   "execution_count": 6,
   "metadata": {},
   "outputs": [],
   "source": [
    "λ     = 4.\n",
    "μ     = 3.\n",
    "ρ     = λ/μ\n",
    "Cmin  = 2\n",
    "Cmax  = 6\n",
    "\n",
    "# Calculation of Erlang C formula\n",
    "def E_C(ρ=ρ,Cmin=Cmin,Cmax=Cmax):\n",
    "    v1  = array([ρ/k for k in range(1,Cmax+1)])\n",
    "    v1  = append([1],v1)\n",
    "    v1  = cumprod(v1)\n",
    "    v2  = append([1],arange(1,Cmax+1))\n",
    "    Num = v1*v2/(v2-ρ)\n",
    "    Den = cumsum(v1)+v1*ρ/(v2-ρ) \n",
    "    ###################\n",
    "    # Complete the definition of E_C\n",
    "    E_C = Num / Den\n",
    "    ###################\n",
    "    return E_C[Cmin:]\n",
    "\n",
    "#----\n",
    "V3 = E_C()[2]"
   ]
  },
  {
   "cell_type": "markdown",
   "metadata": {},
   "source": [
    "### **Answer to question 4**"
   ]
  },
  {
   "cell_type": "code",
   "execution_count": 7,
   "metadata": {},
   "outputs": [
    {
     "name": "stdout",
     "output_type": "stream",
     "text": [
      "0\n",
      "1000\n",
      "0\n",
      "1000\n",
      "0\n",
      "1000\n",
      "0\n",
      "1000\n",
      "0\n",
      "1000\n"
     ]
    }
   ],
   "source": [
    "###################################################\n",
    "# Complete the expression of the mean sojourn times\n",
    "# for C varying from Cmin to Cmax\n",
    "R  = (E_C() / (μ * (array([k - ρ for k in range(Cmin,Cmax+1)])))) + (1 / μ)\n",
    "###################################################\n",
    "# Estimated R\n",
    "R_est= zeros(Cmax-Cmin+1)\n",
    "for index,C in enumerate(range(Cmin,Cmax+1)):\n",
    "    T,N,D = MMC(C=C,λ=λ,μ=μ,N0=2,Tmax=10**3)\n",
    "    R_est[index] = mean(D)\n",
    "#-----------------\n",
    "V4 = norm(R-R_est)/norm(R)"
   ]
  },
  {
   "cell_type": "code",
   "execution_count": 8,
   "metadata": {},
   "outputs": [
    {
     "data": {
      "image/png": "[encoded data removed]",
      "text/plain": [
       "<Figure size 1080x432 with 1 Axes>"
      ]
     },
     "metadata": {},
     "output_type": "display_data"
    }
   ],
   "source": [
    "figure(figsize=(15,6))\n",
    "subplot(211)\n",
    "k = Cmin\n",
    "plot([k,k],[0,R[k-Cmin]],'r',label='True R')\n",
    "plot(k,R[k-Cmin],'or')\n",
    "plot(k,R_est[k-Cmin],'xb',label='Estimated R')\n",
    "for k in range(Cmin+1,Cmax+1):\n",
    "    plot([k,k],[0,R[k-Cmin]],'r')\n",
    "    plot(k,R[k-Cmin],'or')\n",
    "    plot(k,R_est[k-Cmin],'xb')\n",
    "plot([1,Cmax],[1./μ,1./μ],'g',label='mean service time')\n",
    "axis(xmin=1.5,ymin=0)\n",
    "title(r'R (mean sojourn time; red) and mean service time (green)')\n",
    "xticks([c for c in range(Cmin,Cmax+1)],[c for c in range(Cmin,Cmax+1)]);\n",
    "ylabel(r'Delay')\n",
    "legend();"
   ]
  },
  {
   "cell_type": "markdown",
   "metadata": {},
   "source": [
    "The case $C=1$ would correspond to the $M/M/1$ queue. However, here $\\lambda>\\mu$ and this $M/M/1$ queue would not be stable."
   ]
  },
  {
   "cell_type": "markdown",
   "metadata": {},
   "source": [
    "# Your answers for this notebook"
   ]
  },
  {
   "cell_type": "code",
   "execution_count": 9,
   "metadata": {},
   "outputs": [
    {
     "name": "stdout",
     "output_type": "stream",
     "text": [
      "---------------------------------------------------\n",
      "VALIDITY OF RESULTS SUPPLIED FOR WEEK V - Part II:\n",
      "---------------------------------------------------\n",
      "V1 :  OK\n",
      "V2 :  OK\n",
      "V3 :  OK\n",
      "V4 :  OK\n"
     ]
    }
   ],
   "source": [
    "print(\"---------------------------------------------------\\n\"\n",
    "      +\"VALIDITY OF RESULTS SUPPLIED FOR WEEK V - Part II:\\n\"\n",
    "      +\"---------------------------------------------------\")\n",
    "results  = dict()\n",
    "for k in range(1,5):\n",
    "    results[\"V\"+str(k)] = \"NO\"\n",
    "    \n",
    "try: \n",
    "    if abs(V1-4)<.0001:  results[\"V1\"] =  \"OK\"\n",
    "except: pass\n",
    "try: \n",
    "    if abs(V2-.7)<.1:  results[\"V2\"] =  \"OK\"\n",
    "except: pass\n",
    "try: \n",
    "    if abs(V3-.05)<.01: results[\"V3\"] =  \"OK\"\n",
    "except: pass\n",
    "try: \n",
    "    if V4<.1:           results[\"V4\"] =  \"OK\"\n",
    "except: pass\n",
    "\n",
    "for key,val in results.items():\n",
    "    print(key,': ',val)"
   ]
  },
  {
   "cell_type": "code",
   "execution_count": null,
   "metadata": {},
   "outputs": [],
   "source": []
  }
 ],
 "metadata": {
  "kernelspec": {
   "display_name": "Python 3",
   "language": "python",
   "name": "python3"
  },
  "language_info": {
   "codemirror_mode": {
    "name": "ipython",
    "version": 3
   },
   "file_extension": ".py",
   "mimetype": "text/x-python",
   "name": "python",
   "nbconvert_exporter": "python",
   "pygments_lexer": "ipython3",
   "version": "3.6.5"
  }
 },
 "nbformat": 4,
 "nbformat_minor": 1
}
